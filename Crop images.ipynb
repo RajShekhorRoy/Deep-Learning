{
 "cells": [
  {
   "cell_type": "code",
   "execution_count": 2,
   "metadata": {},
   "outputs": [
    {
     "ename": "SyntaxError",
     "evalue": "Missing parentheses in call to 'print'. Did you mean print(int 'cropping images...')? (<ipython-input-2-af1b5d394806>, line 6)",
     "output_type": "error",
     "traceback": [
      "\u001b[0;36m  File \u001b[0;32m\"<ipython-input-2-af1b5d394806>\"\u001b[0;36m, line \u001b[0;32m6\u001b[0m\n\u001b[0;31m    print 'cropping images...'\u001b[0m\n\u001b[0m                             ^\u001b[0m\n\u001b[0;31mSyntaxError\u001b[0m\u001b[0;31m:\u001b[0m Missing parentheses in call to 'print'. Did you mean print(int 'cropping images...')?\n"
     ]
    }
   ],
   "source": [
    "def crop_images(path_images, path_output, dimensions, centre=True):\n",
    "    \"\"\"\n",
    "    Batch crop images from top left hand corner to dimensions specified. Skips\n",
    "    images where dimensions are incompatible.\n",
    "    \"\"\"\n",
    "    print 'cropping images...'\n",
    "    for i, filename in enumerate(os.listdir(path_images)):\n",
    "        try:\n",
    "            image = io.imread('{}{}'.format(path_images, filename))\n",
    "            cropped = crop_image(image, dimensions, centre=centre)\n",
    "            io.imsave(\n",
    "                fname='{}{}'.format(path_output, filename),\n",
    "                arr=cropped\n",
    "            )\n",
    "            print '{}: {}'.format(i, filename)\n",
    "        except IndexError:\n",
    "            print '{}: {} failed - dimensions incompatible'.format(i, filename)\n",
    "\n",
    "    print (\"all images cropped and saved.\") \n"
   ]
  },
  {
   "cell_type": "code",
   "execution_count": null,
   "metadata": {
    "collapsed": true
   },
   "outputs": [],
   "source": []
  }
 ],
 "metadata": {
  "kernelspec": {
   "display_name": "Python 3",
   "language": "python",
   "name": "python3"
  },
  "language_info": {
   "codemirror_mode": {
    "name": "ipython",
    "version": 3
   },
   "file_extension": ".py",
   "mimetype": "text/x-python",
   "name": "python",
   "nbconvert_exporter": "python",
   "pygments_lexer": "ipython3",
   "version": "3.6.3"
  }
 },
 "nbformat": 4,
 "nbformat_minor": 2
}
