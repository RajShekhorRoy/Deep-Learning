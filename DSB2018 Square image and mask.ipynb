{
 "cells": [
  {
   "cell_type": "code",
   "execution_count": 1,
   "metadata": {},
   "outputs": [
    {
     "name": "stderr",
     "output_type": "stream",
     "text": [
      "/Users/wajdiahmed/anaconda3/lib/python3.6/importlib/_bootstrap.py:219: RuntimeWarning: compiletime version 3.5 of module 'tensorflow.python.framework.fast_tensor_util' does not match runtime version 3.6\n",
      "  return f(*args, **kwds)\n",
      "/Users/wajdiahmed/anaconda3/lib/python3.6/site-packages/h5py/__init__.py:34: FutureWarning: Conversion of the second argument of issubdtype from `float` to `np.floating` is deprecated. In future, it will be treated as `np.float64 == np.dtype(float).type`.\n",
      "  from ._conv import register_converters as _register_converters\n"
     ]
    },
    {
     "name": "stdout",
     "output_type": "stream",
     "text": [
      "NewData\n",
      "Single_Cut\n",
      "Square_cut\n",
      "Square_cut_v1\n",
      "extra_data\n",
      "stage1_sample_submission.csv\n",
      "stage1_solution.csv\n",
      "stage1_test\n",
      "stage1_train\n",
      "stage1_train_labels.csv\n",
      "stage2_sample_submission_final.csv\n",
      "stage2_test_final\n",
      "\n"
     ]
    }
   ],
   "source": [
    "import os\n",
    "import sys\n",
    "import random\n",
    "import warnings\n",
    "\n",
    "import numpy as np\n",
    "import pandas as pd\n",
    "\n",
    "import matplotlib.pyplot as plt\n",
    "\n",
    "from tqdm import tqdm\n",
    "from itertools import chain\n",
    "from skimage.io import imread, imsave, imshow, imread_collection, concatenate_images\n",
    "from skimage.transform import resize\n",
    "from skimage.morphology import label\n",
    "\n",
    "\n",
    "import tensorflow as tf\n",
    "from subprocess import check_output\n",
    "print(check_output([\"ls\", \"/Users/wajdiahmed/Kaggle\"]).decode(\"utf8\"))\n",
    "\n",
    "\n",
    "# Set some parameters\n",
    "IMG_WIDTH = 1000\n",
    "IMG_HEIGHT = 1000\n",
    "IMG_CHANNELS = 3\n",
    "\n",
    "TRAIN_PATH = '/Users/wajdiahmed/Kaggle/stage1_train/'\n",
    "\n",
    "\n",
    "warnings.filterwarnings('ignore', category=UserWarning, module='skimage')\n",
    "seed = 42\n",
    "random.seed = seed\n",
    "np.random.seed = seed"
   ]
  },
  {
   "cell_type": "code",
   "execution_count": 2,
   "metadata": {},
   "outputs": [
    {
     "name": "stdout",
     "output_type": "stream",
     "text": [
      "Done :-) \n"
     ]
    }
   ],
   "source": [
    "# Get train, dev and test IDs\n",
    "train_ids = next(os.walk(TRAIN_PATH))[1]\n",
    "dev_ids = next(os.walk(TRAIN_PATH))[1]\n",
    "print('Done :-) ')\n"
   ]
  },
  {
   "cell_type": "code",
   "execution_count": null,
   "metadata": {},
   "outputs": [
    {
     "name": "stdout",
     "output_type": "stream",
     "text": [
      "Getting and resizing train images and masks ... \n"
     ]
    },
    {
     "name": "stderr",
     "output_type": "stream",
     "text": [
      " 61%|██████    | 425/700 [16:17<10:32,  2.30s/it] "
     ]
    }
   ],
   "source": [
    "# Get and resize train images and masks\n",
    "X_train = np.zeros((len(train_ids), IMG_HEIGHT, IMG_WIDTH, IMG_CHANNELS), dtype=np.uint8)\n",
    "Y_train = np.zeros((len(train_ids), IMG_HEIGHT, IMG_WIDTH, 1), dtype=np.bool)\n",
    "mask = np.zeros((IMG_HEIGHT, IMG_WIDTH, 1), dtype=np.bool)\n",
    "\n",
    "print('Getting and resizing train images and masks ... ')\n",
    "sys.stdout.flush()\n",
    "output_path='/Users/wajdiahmed/Kaggle/Square_cut'\n",
    "i=0\n",
    "for n, id_ in tqdm(enumerate(train_ids), total=len(train_ids)):\n",
    "    path = TRAIN_PATH + id_\n",
    "    for mask_file in next(os.walk(path + '/masks/'))[2]:\n",
    "        img = imread(path + '/images/' + id_ + '.png')[:,:,:IMG_CHANNELS]\n",
    "        mask = imread(path + '/masks/' + mask_file)\n",
    "        coords = np.argwhere(mask)\n",
    "        # Bounding box of non-black pixels.\n",
    "        x0, y0 = coords.min(axis=0)\n",
    "        x1, y1 = coords.max(axis=0) + 1   # slices are exclusive at the top\n",
    "        \n",
    "        #To find the squatre area of the necleus image and mask\n",
    "        \n",
    "        \n",
    "        #x0 = min(x0,y0)\n",
    "        #y0= x0;\n",
    "        height = (x1 - x0)\n",
    "        width = (y1 - y0)\n",
    "        \n",
    "        sql = max(height, width)\n",
    "        \n",
    "        #diag = sqrt((height*height)+(width*width)) c=sqrt(h^2+l^2)\n",
    "        \n",
    "        x1 = x0 + sql \n",
    "        y1 = y0 + sql \n",
    "        \n",
    "        #x0=x1-(max(height,width))\n",
    "        #y0=y1-(max(height,width))\n",
    "    \n",
    "        #y1 = x1;\n",
    "        \n",
    "        \n",
    "       \n",
    "        #print (x0, y0,x1,y1)\n",
    "        # Get the contents of the bounding box.\n",
    "        cropped = np.zeros((len(train_ids), IMG_HEIGHT, IMG_WIDTH, IMG_CHANNELS), dtype=np.uint8)\n",
    "        cropped = img[x0:x1, y0:y1]\n",
    "        mask_cropp = mask[x0:x1, y0:y1]\n",
    "        i+=1\n",
    "       \n",
    "        new_path= output_path + '/' + id_ + str(i)\n",
    "        os.mkdir(new_path)\n",
    "        os.mkdir(new_path + '/images')\n",
    "        os.mkdir(new_path + '/masks')\n",
    "       \n",
    "        \n",
    "        imsave(new_path + '/images/' + id_ + str(i) + '.png', cropped)\n",
    "        imsave(new_path + '/masks/' + id_ + str(i) +'.png', mask_cropp)\n",
    "        \n",
    "        #imshow(cropped)\n",
    "        #plt.show()\n",
    "        #imshow(mask_cropp)\n",
    "        #plt.show()\n",
    "\n",
    "\n",
    "\n"
   ]
  },
  {
   "cell_type": "code",
   "execution_count": null,
   "metadata": {
    "collapsed": true
   },
   "outputs": [],
   "source": [
    "\n",
    "\n",
    "\n",
    "\n"
   ]
  },
  {
   "cell_type": "code",
   "execution_count": null,
   "metadata": {
    "collapsed": true
   },
   "outputs": [],
   "source": []
  }
 ],
 "metadata": {
  "kernelspec": {
   "display_name": "Python 3",
   "language": "python",
   "name": "python3"
  },
  "language_info": {
   "codemirror_mode": {
    "name": "ipython",
    "version": 3
   },
   "file_extension": ".py",
   "mimetype": "text/x-python",
   "name": "python",
   "nbconvert_exporter": "python",
   "pygments_lexer": "ipython3",
   "version": "3.6.3"
  }
 },
 "nbformat": 4,
 "nbformat_minor": 2
}
