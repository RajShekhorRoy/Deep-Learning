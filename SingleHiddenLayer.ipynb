{
 "cells": [
  {
   "cell_type": "code",
   "execution_count": 1,
   "metadata": {},
   "outputs": [
    {
     "name": "stderr",
     "output_type": "stream",
     "text": [
      "/Users/wajdiahmed/anaconda3/lib/python3.6/site-packages/h5py/__init__.py:34: FutureWarning: Conversion of the second argument of issubdtype from `float` to `np.floating` is deprecated. In future, it will be treated as `np.float64 == np.dtype(float).type`.\n",
      "  from ._conv import register_converters as _register_converters\n",
      "Using TensorFlow backend.\n"
     ]
    }
   ],
   "source": [
    "import keras\n",
    "from keras import backend as K\n",
    "from keras.models import Sequential\n",
    "from keras.layers import Activation\n",
    "from keras.layers.core import Dense\n",
    "from keras.optimizers import Adam\n",
    "from keras.metrics import categorical_crossentropy\n",
    "import numpy as np\n",
    "from random import randint\n",
    "from sklearn.preprocessing import MinMaxScaler"
   ]
  },
  {
   "cell_type": "code",
   "execution_count": 2,
   "metadata": {
    "collapsed": true
   },
   "outputs": [],
   "source": [
    "train_labels = []\n",
    "train_samples = []"
   ]
  },
  {
   "cell_type": "code",
   "execution_count": 3,
   "metadata": {},
   "outputs": [],
   "source": [
    "for i in range(50):\n",
    "    random_younger = randint(13,64)\n",
    "    train_samples.append(random_younger)\n",
    "    train_labels.append(1)\n",
    "    \n",
    "    random_older = randint(65,100)\n",
    "    train_samples.append(random_older)\n",
    "    train_labels.append(0)  \n",
    "    \n",
    "for i in range(1000):\n",
    "    random_younger = randint(13,64)\n",
    "    train_samples.append(random_younger)\n",
    "    train_labels.append(0)\n",
    "    \n",
    "    random_older = randint(65,100)\n",
    "    train_samples.append(random_older)\n",
    "    train_labels.append(1)"
   ]
  },
  {
   "cell_type": "code",
   "execution_count": 4,
   "metadata": {},
   "outputs": [],
   "source": [
    "#print (train_samples)"
   ]
  },
  {
   "cell_type": "code",
   "execution_count": 5,
   "metadata": {
    "collapsed": true
   },
   "outputs": [],
   "source": [
    "train_labels = np.array(train_labels)\n",
    "train_samples = np.array(train_samples)"
   ]
  },
  {
   "cell_type": "code",
   "execution_count": 6,
   "metadata": {},
   "outputs": [
    {
     "name": "stderr",
     "output_type": "stream",
     "text": [
      "/Users/wajdiahmed/anaconda3/lib/python3.6/site-packages/sklearn/utils/validation.py:475: DataConversionWarning: Data with input dtype int64 was converted to float64 by MinMaxScaler.\n",
      "  warnings.warn(msg, DataConversionWarning)\n"
     ]
    }
   ],
   "source": [
    "scaler = MinMaxScaler(feature_range=(0,1))\n",
    "scaled_train_samples = scaler.fit_transform((train_samples).reshape(-1,1))"
   ]
  },
  {
   "cell_type": "code",
   "execution_count": 7,
   "metadata": {},
   "outputs": [],
   "source": [
    "model = Sequential([\n",
    "    Dense(16, input_shape=(1,), activation='relu'),\n",
    "    Dense(32, activation='relu'),\n",
    "    Dense(2, activation='softmax')\n",
    "])"
   ]
  },
  {
   "cell_type": "code",
   "execution_count": 8,
   "metadata": {},
   "outputs": [
    {
     "name": "stdout",
     "output_type": "stream",
     "text": [
      "[[0.        ]\n",
      " [0.95402299]\n",
      " [0.03448276]\n",
      " ...\n",
      " [0.97701149]\n",
      " [0.47126437]\n",
      " [0.7816092 ]]\n"
     ]
    }
   ],
   "source": [
    "print (scaled_train_samples)"
   ]
  },
  {
   "cell_type": "code",
   "execution_count": 9,
   "metadata": {},
   "outputs": [
    {
     "name": "stdout",
     "output_type": "stream",
     "text": [
      "_________________________________________________________________\n",
      "Layer (type)                 Output Shape              Param #   \n",
      "=================================================================\n",
      "dense_1 (Dense)              (None, 16)                32        \n",
      "_________________________________________________________________\n",
      "dense_2 (Dense)              (None, 32)                544       \n",
      "_________________________________________________________________\n",
      "dense_3 (Dense)              (None, 2)                 66        \n",
      "=================================================================\n",
      "Total params: 642\n",
      "Trainable params: 642\n",
      "Non-trainable params: 0\n",
      "_________________________________________________________________\n"
     ]
    }
   ],
   "source": [
    "model.summary()"
   ]
  },
  {
   "cell_type": "code",
   "execution_count": 10,
   "metadata": {
    "collapsed": true
   },
   "outputs": [],
   "source": [
    "model.compile(Adam(lr=.0001), loss='sparse_categorical_crossentropy', metrics=['accuracy'])"
   ]
  },
  {
   "cell_type": "code",
   "execution_count": 11,
   "metadata": {},
   "outputs": [
    {
     "name": "stdout",
     "output_type": "stream",
     "text": [
      "Train on 1890 samples, validate on 210 samples\n",
      "Epoch 1/20\n",
      " - 0s - loss: 0.6736 - acc: 0.5503 - val_loss: 0.6508 - val_acc: 0.5429\n",
      "Epoch 2/20\n",
      " - 0s - loss: 0.6415 - acc: 0.5878 - val_loss: 0.6144 - val_acc: 0.6143\n",
      "Epoch 3/20\n",
      " - 0s - loss: 0.6120 - acc: 0.6471 - val_loss: 0.5816 - val_acc: 0.6905\n",
      "Epoch 4/20\n",
      " - 0s - loss: 0.5859 - acc: 0.6910 - val_loss: 0.5507 - val_acc: 0.7905\n",
      "Epoch 5/20\n",
      " - 0s - loss: 0.5608 - acc: 0.7270 - val_loss: 0.5193 - val_acc: 0.8143\n",
      "Epoch 6/20\n",
      " - 0s - loss: 0.5357 - acc: 0.7556 - val_loss: 0.4892 - val_acc: 0.8333\n",
      "Epoch 7/20\n",
      " - 0s - loss: 0.5108 - acc: 0.7899 - val_loss: 0.4588 - val_acc: 0.8429\n",
      "Epoch 8/20\n",
      " - 0s - loss: 0.4869 - acc: 0.8095 - val_loss: 0.4298 - val_acc: 0.8571\n",
      "Epoch 9/20\n",
      " - 0s - loss: 0.4637 - acc: 0.8291 - val_loss: 0.4024 - val_acc: 0.8667\n",
      "Epoch 10/20\n",
      " - 0s - loss: 0.4419 - acc: 0.8481 - val_loss: 0.3763 - val_acc: 0.8952\n",
      "Epoch 11/20\n",
      " - 0s - loss: 0.4218 - acc: 0.8619 - val_loss: 0.3511 - val_acc: 0.9000\n",
      "Epoch 12/20\n",
      " - 0s - loss: 0.4031 - acc: 0.8688 - val_loss: 0.3275 - val_acc: 0.9333\n",
      "Epoch 13/20\n",
      " - 0s - loss: 0.3864 - acc: 0.8751 - val_loss: 0.3070 - val_acc: 0.9429\n",
      "Epoch 14/20\n",
      " - 0s - loss: 0.3712 - acc: 0.8810 - val_loss: 0.2901 - val_acc: 0.9619\n",
      "Epoch 15/20\n",
      " - 0s - loss: 0.3582 - acc: 0.8974 - val_loss: 0.2714 - val_acc: 0.9619\n",
      "Epoch 16/20\n",
      " - 0s - loss: 0.3468 - acc: 0.8947 - val_loss: 0.2565 - val_acc: 0.9714\n",
      "Epoch 17/20\n",
      " - 0s - loss: 0.3370 - acc: 0.9000 - val_loss: 0.2447 - val_acc: 0.9762\n",
      "Epoch 18/20\n",
      " - 0s - loss: 0.3287 - acc: 0.9111 - val_loss: 0.2317 - val_acc: 0.9762\n",
      "Epoch 19/20\n",
      " - 0s - loss: 0.3216 - acc: 0.9106 - val_loss: 0.2208 - val_acc: 0.9762\n",
      "Epoch 20/20\n",
      " - 0s - loss: 0.3154 - acc: 0.9159 - val_loss: 0.2133 - val_acc: 0.9857\n"
     ]
    },
    {
     "data": {
      "text/plain": [
       "<keras.callbacks.History at 0x1a24648b70>"
      ]
     },
     "execution_count": 11,
     "metadata": {},
     "output_type": "execute_result"
    }
   ],
   "source": [
    "model.fit(scaled_train_samples, train_labels, validation_split=0.1, batch_size=10, epochs=20,shuffle=True, verbose=2)"
   ]
  },
  {
   "cell_type": "code",
   "execution_count": null,
   "metadata": {
    "collapsed": true
   },
   "outputs": [],
   "source": []
  }
 ],
 "metadata": {
  "kernelspec": {
   "display_name": "Python 3",
   "language": "python",
   "name": "python3"
  },
  "language_info": {
   "codemirror_mode": {
    "name": "ipython",
    "version": 3
   },
   "file_extension": ".py",
   "mimetype": "text/x-python",
   "name": "python",
   "nbconvert_exporter": "python",
   "pygments_lexer": "ipython3",
   "version": "3.6.3"
  }
 },
 "nbformat": 4,
 "nbformat_minor": 2
}
