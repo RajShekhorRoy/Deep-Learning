{
 "cells": [
  {
   "cell_type": "code",
   "execution_count": null,
   "metadata": {
    "collapsed": true
   },
   "outputs": [],
   "source": [
    "import os\n",
    "import sys\n",
    "import random\n",
    "import warnings\n",
    "\n",
    "import numpy as np\n",
    "import pandas as pd\n",
    "\n",
    "import matplotlib.pyplot as plt\n",
    "\n",
    "from tqdm import tqdm\n",
    "from itertools import chain\n",
    "from skimage.io import imread, imshow, imread_collection, concatenate_images\n",
    "from skimage.transform import resize\n",
    "from skimage.morphology import label\n",
    "\n",
    "\n",
    "import tensorflow as tf\n",
    "from subprocess import check_output\n",
    "print(check_output([\"ls\", \"/Users/wajdiahmed/Kaggle\"]).decode(\"utf8\"))\n",
    "\n",
    "\n",
    "# Set some parameters\n",
    "IMG_WIDTH = 1000\n",
    "IMG_HEIGHT = 1000\n",
    "IMG_CHANNELS = 3\n",
    "\n",
    "TRAIN_PATH = '/Users/wajdiahmed/Kaggle/NewData/'\n",
    "\n",
    "\n",
    "warnings.filterwarnings('ignore', category=UserWarning, module='skimage')\n",
    "seed = 42\n",
    "random.seed = seed\n",
    "np.random.seed = seed"
   ]
  },
  {
   "cell_type": "code",
   "execution_count": null,
   "metadata": {
    "collapsed": true
   },
   "outputs": [],
   "source": [
    "# Get train, dev and test IDs\n",
    "train_ids = next(os.walk(TRAIN_PATH))[1]\n",
    "dev_ids = next(os.walk(TRAIN_PATH))[1]\n",
    "test_ids = next(os.walk(TEST_PATH))[1]\n"
   ]
  },
  {
   "cell_type": "code",
   "execution_count": null,
   "metadata": {
    "collapsed": true
   },
   "outputs": [],
   "source": [
    "\n",
    "\n",
    "# Get and resize train images and masks\n",
    "X_train = np.zeros((len(train_ids), IMG_HEIGHT, IMG_WIDTH, IMG_CHANNELS), dtype=np.uint8)\n",
    "Y_train = np.zeros((len(train_ids), IMG_HEIGHT, IMG_WIDTH, 1), dtype=np.uint8)\n",
    "print('Getting and resizing train images and masks ... ')\n",
    "sys.stdout.flush()\n",
    "idi = '/Users/wajdiahmed/Kaggle/NewData/TCGA-G9-6348-01Z-00-DX1/images/TCGA-G9-6348-01Z-00-DX1.png'\n",
    "idm = '/Users/wajdiahmed/Kaggle/NewData/TCGA-G9-6348-01Z-00-DX1/masks/mask_9.png'\n",
    "X_train[0] = imread( idi )[:,:,:IMG_CHANNELS]\n",
    "\n",
    "mask = np.zeros((IMG_HEIGHT, IMG_WIDTH, 1), dtype=np.bool)\n",
    "\n",
    "mask = imread(idm)\n",
    "mask = np.expand_dims(resize(mask, (IMG_HEIGHT, IMG_WIDTH), mode='constant', \n",
    "                                      preserve_range=True), axis=-1)\n",
    "Y_train[0] = mask\n",
    "print('Done!')\n",
    "print (X_train[0].shape)\n",
    "print (Y_train[0].shape)"
   ]
  },
  {
   "cell_type": "code",
   "execution_count": null,
   "metadata": {
    "collapsed": true
   },
   "outputs": [],
   "source": [
    "ix=0\n",
    "imshow(X_train[ix])\n",
    "plt.show()\n",
    "print(X_train.shape)\n",
    "imshow(np.squeeze(Y_train[ix]))\n",
    "plt.show()\n",
    "print(Y_train.shape)\n",
    "\n",
    "# Mask of non-black pixels (assuming image has a single channel).\n",
    "mask = Y_train[0]\n",
    "\n",
    "# Coordinates of non-black pixels.\n",
    "coords = np.argwhere(mask)\n",
    "\n",
    "# Bounding box of non-black pixels.\n",
    "x0, y0, blah = coords.min(axis=0)\n",
    "\n",
    "x1, y1, blah = coords.max(axis=0) + 1   # slices are exclusive at the top\n",
    "print (x0, y0,x1,y1)\n",
    "# Get the contents of the bounding box.\n",
    "cropped = np.zeros((len(train_ids), IMG_HEIGHT, IMG_WIDTH, IMG_CHANNELS), dtype=np.uint8)\n",
    "cropped = X_train[:, x0:x1, y0:y1,:]\n",
    "mask_cropp = Y_train[:, x0:x1, y0:y1,:]\n",
    "\n",
    "print(\"X_Train : \",X_train.shape)\n",
    "print(\"Image_Cropped : \",cropped.shape)\n",
    "\n",
    "\n",
    "imshow(cropped[0])\n",
    "plt.show()\n",
    "\n",
    "imshow(np.squeeze(mask_cropp[0]))\n",
    "plt.show()\n",
    "\n",
    "\n",
    "\n",
    "\n",
    "\n"
   ]
  },
  {
   "cell_type": "code",
   "execution_count": null,
   "metadata": {
    "collapsed": true
   },
   "outputs": [],
   "source": []
  }
 ],
 "metadata": {
  "kernelspec": {
   "display_name": "Python 3",
   "language": "python",
   "name": "python3"
  },
  "language_info": {
   "codemirror_mode": {
    "name": "ipython",
    "version": 3
   },
   "file_extension": ".py",
   "mimetype": "text/x-python",
   "name": "python",
   "nbconvert_exporter": "python",
   "pygments_lexer": "ipython3",
   "version": "3.6.3"
  }
 },
 "nbformat": 4,
 "nbformat_minor": 2
}
