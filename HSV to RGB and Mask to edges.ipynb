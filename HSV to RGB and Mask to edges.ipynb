{
 "cells": [
  {
   "cell_type": "code",
   "execution_count": null,
   "metadata": {
    "collapsed": true
   },
   "outputs": [],
   "source": []
  },
  {
   "cell_type": "code",
   "execution_count": 2,
   "metadata": {},
   "outputs": [
    {
     "ename": "ModuleNotFoundError",
     "evalue": "No module named 'tf_unet'",
     "output_type": "error",
     "traceback": [
      "\u001b[0;31m---------------------------------------------------------------------------\u001b[0m",
      "\u001b[0;31mModuleNotFoundError\u001b[0m                       Traceback (most recent call last)",
      "\u001b[0;32m<ipython-input-2-eb2d97492d84>\u001b[0m in \u001b[0;36m<module>\u001b[0;34m()\u001b[0m\n\u001b[1;32m      1\u001b[0m \u001b[0;32mimport\u001b[0m \u001b[0mclick\u001b[0m\u001b[0;34m\u001b[0m\u001b[0m\n\u001b[0;32m----> 2\u001b[0;31m \u001b[0;32mfrom\u001b[0m \u001b[0mtf_unet\u001b[0m \u001b[0;32mimport\u001b[0m \u001b[0munet\u001b[0m\u001b[0;34m,\u001b[0m \u001b[0mutil\u001b[0m\u001b[0;34m,\u001b[0m \u001b[0mimage_util\u001b[0m\u001b[0;34m\u001b[0m\u001b[0m\n\u001b[0m\u001b[1;32m      3\u001b[0m \u001b[0;34m\u001b[0m\u001b[0m\n\u001b[1;32m      4\u001b[0m \u001b[0;31m#preparing data loading\u001b[0m\u001b[0;34m\u001b[0m\u001b[0;34m\u001b[0m\u001b[0m\n\u001b[1;32m      5\u001b[0m \u001b[0mdata_provider\u001b[0m \u001b[0;34m=\u001b[0m \u001b[0mimage_util\u001b[0m\u001b[0;34m.\u001b[0m\u001b[0mImageDataProvider\u001b[0m\u001b[0;34m(\u001b[0m\u001b[0;34m\"fishes/train/*.tif\"\u001b[0m\u001b[0;34m)\u001b[0m\u001b[0;34m\u001b[0m\u001b[0m\n",
      "\u001b[0;31mModuleNotFoundError\u001b[0m: No module named 'tf_unet'"
     ]
    }
   ],
   "source": [
    "def hsv_to_rgb(h, s, v):\n",
    "    h -= math.floor(h)\n",
    "    h = h * 6\n",
    "    if h < 1:\n",
    "        [r, g, b] = [1, h, 0]\n",
    "    elif h < 2:\n",
    "        [r, g, b] = [2 - h, 1, 0]\n",
    "    elif h < 3:\n",
    "        [r, g, b] = [0, 1, h - 2]\n",
    "    elif h < 4:\n",
    "        [r, g, b] = [0, 4 - h, 1]\n",
    "    elif h < 5:\n",
    "        [r, g, b] = [h - 4, 0, 1]\n",
    "    else:\n",
    "        [r, g, b] = [1, 0, 6 - h]\n",
    "    return [((r - 0.5) * s + 0.5) * v, ((g - 0.5) * s + 0.5) * v, ((b - 0.5) * s + 0.5) * v]\n",
    "\n",
    "hash_colorize = np.array([[0, 0, 0] if i == 0 else\n",
    "                              hsv_to_rgb(((i + 1) % 17)/17,\n",
    "                                         ((i + 1) % 3)/3 / 2 + 0.5,\n",
    "                                         ((i + 1) % 5)/5 * 2/3 + 1/3)\n",
    "                          for i in range(256)])\n",
    "def mask_to_edges(mask):\n",
    "    mask_edges = np.zeros(mask.shape).astype(np.uint8)\n",
    "    for ii in range(1, mask.max() + 1):\n",
    "        submask = mask.copy()\n",
    "        submask[submask != ii] = 0\n",
    "        submask[submask == ii] = 1\n",
    "        submask_edges = submask - ndimage.binary_erosion(submask, structure=np.ones((5,5)))\n",
    "        mask_edges += submask_edges * ii\n",
    "    return mask_edges\n",
    "\n",
    "def visualize_mask(mask, img=None, edges=True, fill=True):\n",
    "    if fill:\n",
    "        if img is None:\n",
    "            img = mask.copy()\n",
    "            img[img > 0] = 1\n",
    "        img = np.multiply(np.repeat(np.reshape(img, img.shape + (1,)), 3, 2), hash_colorize[mask])\n",
    "    else:\n",
    "        if img is None:\n",
    "            img = np.zeros(mask.shape)\n",
    "        img = np.repeat(np.reshape(img, img.shape + (1,)), 3, 2)\n",
    "    if edges:\n",
    "        img = np.clip(img + hash_colorize[mask_to_edges(mask)], 0, 1)\n",
    "    return img\n"
   ]
  },
  {
   "cell_type": "code",
   "execution_count": null,
   "metadata": {
    "collapsed": true
   },
   "outputs": [],
   "source": []
  }
 ],
 "metadata": {
  "kernelspec": {
   "display_name": "Python 3",
   "language": "python",
   "name": "python3"
  }
 },
 "nbformat": 4,
 "nbformat_minor": 2
}
